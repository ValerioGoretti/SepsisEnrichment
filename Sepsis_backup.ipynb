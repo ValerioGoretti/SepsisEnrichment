{
 "cells": [
  {
   "cell_type": "code",
   "id": "initial_id",
   "metadata": {
    "collapsed": true,
    "ExecuteTime": {
     "end_time": "2024-12-16T11:32:48.296213Z",
     "start_time": "2024-12-16T11:32:44.750503Z"
    }
   },
   "source": [
    "#import xml.etree.ElementTree as ET\n",
    "from lxml import etree as ET\n",
    "import pandas as pd\n",
    "import matplotlib.pyplot as plt\n",
    "import random\n"
   ],
   "outputs": [],
   "execution_count": 1
  },
  {
   "metadata": {
    "ExecuteTime": {
     "end_time": "2024-12-16T11:32:48.348232Z",
     "start_time": "2024-12-16T11:32:48.330465Z"
    }
   },
   "cell_type": "code",
   "source": [
    "\n",
    "# Function to parse XES file and extract data\n",
    "def parse_xes(file_path):\n",
    "    tree = ET.parse(file_path)\n",
    "    root = tree.getroot()\n",
    "\n",
    "    # Define XES namespace\n",
    "    namespace = {'xes': 'http://www.xes-standard.org/'}\n",
    "\n",
    "    # Prepare a list to store events\n",
    "    data = []\n",
    "\n",
    "    # Iterate over traces\n",
    "    for trace in root.findall('trace', namespace):\n",
    "        case_id = None\n",
    "        case_attributes = {}\n",
    "\n",
    "        # Extract case attributes\n",
    "        for attr in trace.findall('string', namespace):\n",
    "            if attr.get('key') == 'concept:name':\n",
    "                case_id = attr.get('value')\n",
    "            else:\n",
    "                case_attributes[attr.get('key')] = attr.get('value')\n",
    "\n",
    "        for attr in trace.findall('int', namespace):\n",
    "            case_attributes[attr.get('key')] = int(attr.get('value'))\n",
    "\n",
    "        for attr in trace.findall('float', namespace):\n",
    "            case_attributes[attr.get('key')] = float(attr.get('value'))\n",
    "\n",
    "        for attr in trace.findall('boolean', namespace):\n",
    "            case_attributes[attr.get('key')] = attr.get('value') == 'true'\n",
    "\n",
    "        # Extract events in the trace\n",
    "        for event in trace.findall('event', namespace):\n",
    "            event_data = case_attributes.copy()\n",
    "            event_data['case_id'] = case_id\n",
    "\n",
    "            for attr in event.findall('int', namespace):\n",
    "                event_data[attr.get('key')] = int(attr.get('value'))\n",
    "\n",
    "            for attr in event.findall('string', namespace):\n",
    "                event_data[attr.get('key')] = attr.get('value')\n",
    "\n",
    "            for attr in event.findall('date', namespace):\n",
    "                event_data[attr.get('key')] = attr.get('value')\n",
    "\n",
    "            for attr in event.findall('float', namespace):\n",
    "                event_data[attr.get('key')] = float(attr.get('value'))\n",
    "\n",
    "            for attr in event.findall('boolean', namespace):\n",
    "                event_data[attr.get('key')] = attr.get('value') == 'true'\n",
    "\n",
    "            data.append(event_data)\n",
    "\n",
    "    return pd.DataFrame(data)"
   ],
   "id": "331de6ece3afb432",
   "outputs": [],
   "execution_count": 2
  },
  {
   "metadata": {
    "ExecuteTime": {
     "end_time": "2024-12-16T11:32:49.011692Z",
     "start_time": "2024-12-16T11:32:48.403674Z"
    }
   },
   "cell_type": "code",
   "source": [
    "# Load and parse the XES file\n",
    "file_path = 'Sepsis/sepsis.xes'\n",
    "event_log_df = parse_xes(file_path)\n",
    "# Save the parsed data to a CSV for further analysis\n",
    "event_log_df.to_csv('event_log.csv', index=False)"
   ],
   "id": "11ba98f5566a9239",
   "outputs": [],
   "execution_count": 3
  },
  {
   "metadata": {
    "ExecuteTime": {
     "end_time": "2024-12-16T11:32:49.583608Z",
     "start_time": "2024-12-16T11:32:49.577075Z"
    }
   },
   "cell_type": "code",
   "source": "print(event_log_df.columns)",
   "id": "a252c2e6fc6c727e",
   "outputs": [
    {
     "name": "stdout",
     "output_type": "stream",
     "text": [
      "Index(['case_id', 'Age', 'org:group', 'concept:name', 'lifecycle:transition',\n",
      "       'Diagnose', 'time:timestamp', 'InfectionSuspected', 'DiagnosticBlood',\n",
      "       'DisfuncOrg', 'SIRSCritTachypnea', 'Hypotensie', 'SIRSCritHeartRate',\n",
      "       'Infusion', 'DiagnosticArtAstrup', 'DiagnosticIC', 'DiagnosticSputum',\n",
      "       'DiagnosticLiquor', 'DiagnosticOther', 'SIRSCriteria2OrMore',\n",
      "       'DiagnosticXthorax', 'SIRSCritTemperature', 'DiagnosticUrinaryCulture',\n",
      "       'SIRSCritLeucos', 'Oligurie', 'DiagnosticLacticAcid', 'Hypoxie',\n",
      "       'DiagnosticUrinarySediment', 'DiagnosticECG', 'Leucocytes', 'CRP',\n",
      "       'LacticAcid'],\n",
      "      dtype='object')\n"
     ]
    }
   ],
   "execution_count": 4
  },
  {
   "metadata": {
    "ExecuteTime": {
     "end_time": "2024-12-16T11:32:49.608609Z",
     "start_time": "2024-12-16T11:32:49.597921Z"
    }
   },
   "cell_type": "code",
   "source": [
    "# Display summary of the data\n",
    "print(\"Event log parsed successfully!\")\n",
    "print(event_log_df.head())"
   ],
   "id": "4ed1a40083ddddb4",
   "outputs": [
    {
     "name": "stdout",
     "output_type": "stream",
     "text": [
      "Event log parsed successfully!\n",
      "  case_id   Age org:group     concept:name lifecycle:transition Diagnose  \\\n",
      "0       A  85.0         A  ER Registration             complete        A   \n",
      "1       A   NaN         B       Leucocytes             complete      NaN   \n",
      "2       A   NaN         B              CRP             complete      NaN   \n",
      "3       A   NaN         B       LacticAcid             complete      NaN   \n",
      "4       A   NaN         C        ER Triage             complete      NaN   \n",
      "\n",
      "                  time:timestamp InfectionSuspected DiagnosticBlood  \\\n",
      "0  2014-10-22T11:15:41.000+02:00               True            True   \n",
      "1  2014-10-22T11:27:00.000+02:00                NaN             NaN   \n",
      "2  2014-10-22T11:27:00.000+02:00                NaN             NaN   \n",
      "3  2014-10-22T11:27:00.000+02:00                NaN             NaN   \n",
      "4  2014-10-22T11:33:37.000+02:00                NaN             NaN   \n",
      "\n",
      "  DisfuncOrg  ... DiagnosticUrinaryCulture SIRSCritLeucos Oligurie  \\\n",
      "0       True  ...                     True          False    False   \n",
      "1        NaN  ...                      NaN            NaN      NaN   \n",
      "2        NaN  ...                      NaN            NaN      NaN   \n",
      "3        NaN  ...                      NaN            NaN      NaN   \n",
      "4        NaN  ...                      NaN            NaN      NaN   \n",
      "\n",
      "  DiagnosticLacticAcid Hypoxie DiagnosticUrinarySediment DiagnosticECG  \\\n",
      "0                 True   False                      True          True   \n",
      "1                  NaN     NaN                       NaN           NaN   \n",
      "2                  NaN     NaN                       NaN           NaN   \n",
      "3                  NaN     NaN                       NaN           NaN   \n",
      "4                  NaN     NaN                       NaN           NaN   \n",
      "\n",
      "  Leucocytes   CRP LacticAcid  \n",
      "0        NaN   NaN        NaN  \n",
      "1        9.6   NaN        NaN  \n",
      "2        NaN  21.0        NaN  \n",
      "3        NaN   NaN        2.2  \n",
      "4        NaN   NaN        NaN  \n",
      "\n",
      "[5 rows x 32 columns]\n"
     ]
    }
   ],
   "execution_count": 5
  },
  {
   "metadata": {
    "ExecuteTime": {
     "end_time": "2024-12-16T11:32:49.846280Z",
     "start_time": "2024-12-16T11:32:49.828794Z"
    }
   },
   "cell_type": "code",
   "source": [
    "# Example analysis: Count events per case\n",
    "case_event_counts = event_log_df.groupby('case_id').size()\n",
    "print(\"\\nNumber of events per case:\")\n",
    "print(case_event_counts)"
   ],
   "id": "5002ca425570f19a",
   "outputs": [
    {
     "name": "stdout",
     "output_type": "stream",
     "text": [
      "\n",
      "Number of events per case:\n",
      "case_id\n",
      "A      22\n",
      "AA      8\n",
      "AAA    11\n",
      "AB      8\n",
      "ABA    17\n",
      "       ..\n",
      "ZV     12\n",
      "ZW     13\n",
      "ZX     10\n",
      "ZY      8\n",
      "ZZ     14\n",
      "Length: 1050, dtype: int64\n"
     ]
    }
   ],
   "execution_count": 6
  },
  {
   "metadata": {
    "ExecuteTime": {
     "end_time": "2024-12-16T11:32:50.177110Z",
     "start_time": "2024-12-16T11:32:50.165244Z"
    }
   },
   "cell_type": "code",
   "source": [
    "# Example: Analyze activities by frequency\n",
    "activity_counts = event_log_df['concept:name'].value_counts()\n",
    "print(\"\\nActivity frequency:\")\n",
    "print(activity_counts)"
   ],
   "id": "fb96f4918321c5f1",
   "outputs": [
    {
     "name": "stdout",
     "output_type": "stream",
     "text": [
      "\n",
      "Activity frequency:\n",
      "concept:name\n",
      "Leucocytes          3383\n",
      "CRP                 3262\n",
      "LacticAcid          1466\n",
      "Admission NC        1182\n",
      "ER Triage           1053\n",
      "ER Registration     1050\n",
      "ER Sepsis Triage    1049\n",
      "IV Antibiotics       823\n",
      "IV Liquid            753\n",
      "Release A            671\n",
      "Return ER            294\n",
      "Admission IC         117\n",
      "Release B             56\n",
      "Release C             25\n",
      "Release D             24\n",
      "Release E              6\n",
      "Name: count, dtype: int64\n"
     ]
    }
   ],
   "execution_count": 7
  },
  {
   "metadata": {
    "ExecuteTime": {
     "end_time": "2024-12-16T11:32:50.411938Z",
     "start_time": "2024-12-16T11:32:50.404807Z"
    }
   },
   "cell_type": "code",
   "source": [
    "def analyze_age_distribution(df, age_column='age'):\n",
    "    # Convert age values to numeric, ignoring errors\n",
    "    df[age_column] = pd.to_numeric(df[age_column], errors='coerce')\n",
    "\n",
    "    # Drop rows with NaN age\n",
    "    age_data = df[age_column].dropna()\n",
    "\n",
    "    # Summary statistics\n",
    "    print(\"Age Statistics:\")\n",
    "    print(age_data.describe())\n",
    "\n",
    "    # Plot distribution\n",
    "    plt.figure(figsize=(10, 6))\n",
    "    plt.hist(age_data, bins=20, color='skyblue', edgecolor='black')\n",
    "    plt.title(\"Distribution of Ages\")\n",
    "    plt.xlabel(\"Age\")\n",
    "    plt.ylabel(\"Frequency\")\n",
    "    plt.grid(axis='y', linestyle='--', alpha=0.7)\n",
    "    plt.show()"
   ],
   "id": "d85afde82b86d968",
   "outputs": [],
   "execution_count": 8
  },
  {
   "metadata": {
    "ExecuteTime": {
     "end_time": "2024-12-16T11:32:50.676950Z",
     "start_time": "2024-12-16T11:32:50.465465Z"
    }
   },
   "cell_type": "code",
   "source": [
    "# Analyze and plot age distribution\n",
    "analyze_age_distribution(event_log_df, age_column='Age')"
   ],
   "id": "d53bcc1a7ab62be8",
   "outputs": [
    {
     "name": "stdout",
     "output_type": "stream",
     "text": [
      "Age Statistics:\n",
      "count    1050.000000\n",
      "mean       70.080952\n",
      "std        17.356744\n",
      "min        20.000000\n",
      "25%        60.000000\n",
      "50%        75.000000\n",
      "75%        85.000000\n",
      "max        90.000000\n",
      "Name: Age, dtype: float64\n"
     ]
    },
    {
     "data": {
      "text/plain": [
       "<Figure size 1000x600 with 1 Axes>"
      ],
      "image/png": "[encoded data removed]"
     },
     "metadata": {},
     "output_type": "display_data"
    }
   ],
   "execution_count": 9
  },
  {
   "metadata": {
    "ExecuteTime": {
     "end_time": "2024-12-16T11:32:53.374203Z",
     "start_time": "2024-12-16T11:32:53.365899Z"
    }
   },
   "cell_type": "code",
   "source": [
    "# Count the number of people for each age\n",
    "age_counts = event_log_df['Age'].value_counts()\n",
    "\n",
    "# Display the counts\n",
    "print(\"Number of people for each age:\")\n",
    "print(age_counts)"
   ],
   "id": "33b9530eef64a615",
   "outputs": [
    {
     "name": "stdout",
     "output_type": "stream",
     "text": [
      "Number of people for each age:\n",
      "Age\n",
      "90.0    155\n",
      "85.0    149\n",
      "75.0    135\n",
      "80.0    129\n",
      "70.0    110\n",
      "65.0     78\n",
      "60.0     71\n",
      "55.0     60\n",
      "50.0     36\n",
      "45.0     28\n",
      "35.0     28\n",
      "40.0     23\n",
      "25.0     19\n",
      "30.0     18\n",
      "20.0     11\n",
      "Name: count, dtype: int64\n"
     ]
    }
   ],
   "execution_count": 10
  },
  {
   "metadata": {
    "ExecuteTime": {
     "end_time": "2024-12-16T11:33:01.557093Z",
     "start_time": "2024-12-16T11:33:01.425558Z"
    }
   },
   "cell_type": "code",
   "source": [
    "# Extract the year from the event dates\n",
    "event_log_df['year'] = pd.to_datetime(event_log_df['time:timestamp'], utc=True).dt.year\n",
    "\n",
    "# Group by the year and count the number of traces\n",
    "traces_per_year = event_log_df.groupby('year')['case_id'].nunique()\n",
    "\n",
    "# Display the counts\n",
    "print(\"Number of traces per year:\")\n",
    "print(traces_per_year)"
   ],
   "id": "4f4238862813bd9b",
   "outputs": [
    {
     "name": "stdout",
     "output_type": "stream",
     "text": [
      "Number of traces per year:\n",
      "year\n",
      "2013     78\n",
      "2014    930\n",
      "2015    125\n",
      "Name: case_id, dtype: int64\n"
     ]
    }
   ],
   "execution_count": 11
  },
  {
   "metadata": {
    "ExecuteTime": {
     "end_time": "2024-12-16T11:33:14.336490Z",
     "start_time": "2024-12-16T11:33:14.330747Z"
    }
   },
   "cell_type": "code",
   "source": [
    "# Sample lists of names and surnames\n",
    "first_names = [\"Alice\", \"Bob\", \"Charlie\", \"Diana\", \"Eve\", \"Frank\", \"Grace\", \"Hannah\", \"Ivy\", \"Jack\", \"Karen\", \"Liam\", \"Mia\", \"Nathan\", \"Olivia\", \"Paul\", \"Quinn\", \"Ruby\", \"Steve\", \"Tina\"]\n",
    "surnames = [\"Smith\", \"Johnson\", \"Williams\", \"Brown\", \"Jones\", \"Garcia\", \"Martinez\", \"Davis\", \"Rodriguez\", \"Hernandez\", \"Moore\", \"Taylor\", \"Anderson\", \"Thomas\", \"Jackson\", \"White\", \"Harris\", \"Martin\", \"Thompson\", \"Young\"]\n"
   ],
   "id": "a83367dedf615724",
   "outputs": [],
   "execution_count": 12
  },
  {
   "metadata": {
    "ExecuteTime": {
     "end_time": "2024-12-16T11:33:20.089048Z",
     "start_time": "2024-12-16T11:33:20.081177Z"
    }
   },
   "cell_type": "code",
   "source": [
    "def generate_patients(age_counts, traces_per_year, first_names, surnames):\n",
    "    patients = []\n",
    "    patient_id_counter = 1\n",
    "\n",
    "    # Iterate over years and ages based on counts\n",
    "    for year, num_traces in traces_per_year.items():\n",
    "        for age, count in age_counts.items():\n",
    "            # Distribute patients across ages and years\n",
    "            for _ in range(count):\n",
    "                birth_year = year - age\n",
    "                name = random.choice(first_names)\n",
    "                surname = random.choice(surnames)\n",
    "                patients.append({\n",
    "                    'patient_id': f\"P{patient_id_counter:05d}\",\n",
    "                    'name': name,\n",
    "                    'surname': surname,\n",
    "                    'age': age,\n",
    "                    'reference_year': year,\n",
    "                    'birth_year': birth_year\n",
    "                })\n",
    "                patient_id_counter += 1\n",
    "\n",
    "    # Shuffle patients to randomize\n",
    "    random.shuffle(patients)\n",
    "    return patients"
   ],
   "id": "c06230bc5a8f4dc3",
   "outputs": [],
   "execution_count": 13
  },
  {
   "metadata": {
    "ExecuteTime": {
     "end_time": "2024-12-16T11:33:27.352636Z",
     "start_time": "2024-12-16T11:33:27.333480Z"
    }
   },
   "cell_type": "code",
   "source": [
    "# Generate the patient data\n",
    "patients = generate_patients(age_counts, traces_per_year, first_names, surnames)\n",
    "\n",
    "# Convert to DataFrame for easier manipulation\n",
    "patients_df = pd.DataFrame(patients)\n",
    "print(\"Generated Patient Data:\")\n",
    "print(patients_df.head())"
   ],
   "id": "2e1b5457140c5583",
   "outputs": [
    {
     "name": "stdout",
     "output_type": "stream",
     "text": [
      "Generated Patient Data:\n",
      "  patient_id     name    surname   age  reference_year  birth_year\n",
      "0     P02744      Bob     Martin  70.0            2015      1945.0\n",
      "1     P01782    Karen    Johnson  65.0            2014      1949.0\n",
      "2     P01416   Nathan      Smith  75.0            2014      1939.0\n",
      "3     P00188      Ivy  Rodriguez  85.0            2013      1928.0\n",
      "4     P01707  Charlie      White  70.0            2014      1944.0\n"
     ]
    }
   ],
   "execution_count": 14
  },
  {
   "metadata": {},
   "cell_type": "markdown",
   "source": "# Generate Patient Data",
   "id": "1be66bf347865a2a"
  },
  {
   "metadata": {
    "ExecuteTime": {
     "end_time": "2024-12-16T12:23:44.257459Z",
     "start_time": "2024-12-16T12:23:44.224975Z"
    }
   },
   "cell_type": "code",
   "source": [
    "# Define random names and surnames for patients\n",
    "names = [\n",
    "    \"Aaron\", \"Abby\", \"Adam\", \"Aiden\", \"Alice\", \"Amelia\", \"Andrew\", \"Angela\", \"Anna\", \"Anthony\",\n",
    "    \"Aria\", \"Arthur\", \"Ava\", \"Barbara\", \"Ben\", \"Benjamin\", \"Beth\", \"Blake\", \"Brandon\", \"Brian\",\n",
    "    \"Brittany\", \"Brody\", \"Caleb\", \"Cameron\", \"Carla\", \"Carmen\", \"Carter\", \"Catherine\", \"Charlie\",\n",
    "    \"Chloe\", \"Chris\", \"Christian\", \"Claire\", \"Clara\", \"Colin\", \"Connor\", \"Courtney\", \"Crystal\",\n",
    "    \"Daniel\", \"David\", \"Diana\", \"Dominic\", \"Dylan\", \"Edward\", \"Eleanor\", \"Elena\", \"Eli\", \"Elijah\",\n",
    "    \"Elizabeth\", \"Ella\", \"Emily\", \"Emma\", \"Eric\", \"Ethan\", \"Eva\", \"Evan\", \"Evelyn\", \"Faith\",\n",
    "    \"Felix\", \"Finn\", \"Fiona\", \"Gabriel\", \"Grace\", \"Gregory\", \"Hannah\", \"Harper\", \"Hazel\", \"Henry\",\n",
    "    \"Hunter\", \"Ian\", \"Isabel\", \"Isabella\", \"Isaac\", \"Jack\", \"Jacob\", \"James\", \"Jasmine\", \"Jason\",\n",
    "    \"Jenna\", \"Jeremy\", \"Jessica\", \"Jillian\", \"John\", \"Jonathan\", \"Jordan\", \"Joseph\", \"Joshua\",\n",
    "    \"Julia\", \"Julian\", \"Justin\", \"Kaitlyn\", \"Karen\", \"Katherine\", \"Katie\", \"Kayla\", \"Kevin\",\n",
    "    \"Kimberly\", \"Kyle\", \"Laura\", \"Lauren\", \"Liam\", \"Lila\", \"Lillian\", \"Lily\", \"Logan\", \"Lucas\",\n",
    "    \"Lucy\", \"Luke\", \"Madeline\", \"Madison\", \"Maggie\", \"Maria\", \"Mark\", \"Mason\", \"Matthew\", \"Maya\",\n",
    "    \"Megan\", \"Michael\", \"Michelle\", \"Miles\", \"Molly\", \"Morgan\", \"Nathan\", \"Natalie\", \"Nathaniel\",\n",
    "    \"Nicholas\", \"Nicole\", \"Noah\", \"Nora\", \"Oliver\", \"Olivia\", \"Owen\", \"Paige\", \"Patrick\", \"Paul\",\n",
    "    \"Penelope\", \"Peter\", \"Phoebe\", \"Rachel\", \"Rebecca\", \"Riley\", \"Robert\", \"Ryan\", \"Samantha\",\n",
    "    \"Samuel\", \"Sarah\", \"Savannah\", \"Scott\", \"Sean\", \"Sebastian\", \"Serena\", \"Sophia\", \"Sophie\",\n",
    "    \"Spencer\", \"Stephanie\", \"Steven\", \"Sydney\", \"Taylor\", \"Thomas\", \"Tiffany\", \"Timothy\", \"Tristan\",\n",
    "    \"Tyler\", \"Vanessa\", \"Victoria\", \"Violet\", \"William\", \"Wyatt\", \"Zachary\", \"Zoe\", \"Abigail\",\n",
    "    \"Adrian\", \"Albert\", \"Alex\", \"Alexander\", \"Alexandra\", \"Allison\", \"Amber\", \"Angel\", \"April\",\n",
    "    \"Arianna\", \"Ashley\", \"Austin\", \"Autumn\", \"Avery\", \"Bailey\", \"Becky\", \"Bianca\", \"Blair\", \"Bradley\",\n",
    "    \"Brenda\", \"Brianna\", \"Bryce\", \"Camila\", \"Carl\", \"Carly\", \"Cecilia\", \"Cedric\", \"Charlotte\",\n",
    "    \"Chelsea\", \"Chester\", \"Clayton\", \"Clifford\", \"Clinton\", \"Cole\", \"Cooper\", \"Dakota\", \"Dale\",\n",
    "    \"Damian\", \"Danielle\", \"Dean\", \"Deborah\", \"Declan\", \"Delilah\", \"Dennis\", \"Desmond\", \"Destiny\",\n",
    "    \"Devin\", \"Diego\", \"Dillon\", \"Doris\", \"Drew\", \"Dwayne\", \"Dylan\", \"Edgar\", \"Edith\", \"Edison\",\n",
    "    \"Elianna\", \"Elise\", \"Ellie\", \"Elliot\", \"Elsa\", \"Emerson\", \"Emery\", \"Emmett\", \"Enzo\", \"Erica\",\n",
    "    \"Esme\", \"Esther\", \"Ezekiel\", \"Faye\", \"Francis\", \"Frank\", \"Francesca\", \"Freddie\", \"Freya\",\n",
    "    \"Gabriella\", \"Gavin\", \"Genevieve\", \"Georgia\", \"Gianna\", \"Gideon\", \"Gilbert\", \"Giovanni\",\n",
    "    \"Gloria\", \"Gordon\", \"Grace\", \"Grant\", \"Greta\", \"Griffin\", \"Guadalupe\", \"Gwendolyn\", \"Hailey\",\n",
    "    \"Haley\", \"Harrison\", \"Harvey\", \"Heather\", \"Heidi\", \"Helen\", \"Helena\", \"Holly\", \"Hudson\",\n",
    "    \"Imogen\", \"India\", \"Indigo\", \"Ingrid\", \"Irene\", \"Irving\", \"Isla\", \"Ivy\", \"Izzy\", \"Jackie\",\n",
    "    \"Jacqueline\", \"Jake\", \"Jared\", \"Jaxon\", \"Jayden\", \"Jean\", \"Jeffrey\", \"Jeremiah\", \"Jerry\",\n",
    "    \"Jesse\", \"Joanna\", \"Joey\", \"Jolene\", \"Jonah\", \"Josephine\", \"Joy\", \"Judith\", \"Jude\", \"Julie\",\n",
    "    \"Juliette\", \"June\", \"Kai\", \"Kara\", \"Kari\", \"Karina\", \"Kate\", \"Katelyn\", \"Katrina\", \"Kendall\",\n",
    "    \"Kennedy\", \"Kent\", \"Kieran\", \"Killian\", \"Kim\", \"Kirsten\", \"Kody\", \"Kurt\", \"Lacey\", \"Lana\",\n",
    "    \"Lara\", \"Larry\", \"Layla\", \"Leah\", \"Leighton\", \"Leo\", \"Leona\", \"Liam\", \"Libby\", \"Lila\", \"Lincoln\",\n",
    "    \"Lindsey\", \"Lionel\", \"Lola\", \"Louisa\", \"Luis\", \"Luna\", \"Mabel\", \"Madeline\", \"Mae\", \"Malcolm\",\n",
    "    \"Marcel\", \"Marco\", \"Mariah\", \"Mariana\", \"Marilyn\", \"Marissa\", \"Marshall\", \"Martha\", \"Martin\",\n",
    "    \"Mary\", \"Matilda\", \"Max\", \"Maxwell\", \"Melanie\", \"Melody\", \"Melissa\", \"Mia\", \"Micah\", \"Michaela\",\n",
    "    \"Miguel\", \"Mila\", \"Milton\", \"Miranda\", \"Mitchell\", \"Mona\", \"Monica\", \"Myra\", \"Nancy\", \"Naomi\",\n",
    "    \"Natalia\", \"Neal\", \"Neil\", \"Nelson\", \"Nia\", \"Nick\", \"Nicolas\", \"Nina\", \"Noelle\", \"Nolan\", \"Norah\",\n",
    "    \"Nova\", \"Oscar\", \"Pamela\", \"Patricia\", \"Paula\", \"Pearl\", \"Percy\", \"Peyton\", \"Phillip\", \"Pierce\",\n",
    "    \"Poppy\", \"Quentin\", \"Quinn\", \"Rafael\", \"Raina\", \"Ramona\", \"Randall\", \"Raymond\", \"Reagan\",\n",
    "    \"Reed\", \"Regina\", \"Remy\", \"Rene\", \"Rex\", \"Rhys\", \"Ricardo\", \"Rita\", \"Robin\", \"Rory\", \"Rose\",\n",
    "    \"Ross\", \"Rowan\", \"Ruby\", \"Ryder\", \"Sadie\", \"Sage\", \"Sally\", \"Samson\", \"Sandra\", \"Santiago\",\n",
    "    \"Sara\", \"Savannah\", \"Sawyer\", \"Scarlett\", \"Scott\", \"Selena\", \"Serena\", \"Shane\", \"Sharon\",\n",
    "    \"Sheila\", \"Shelby\", \"Shiloh\", \"Silas\", \"Simon\", \"Skye\", \"Sloane\", \"Sonya\", \"Spencer\", \"Stacy\",\n",
    "    \"Stanley\", \"Stella\", \"Stephen\", \"Sterling\", \"Stewart\", \"Suzanne\", \"Sylvia\", \"Tanner\", \"Tara\",\n",
    "    \"Tate\", \"Teddy\", \"Teegan\", \"Tessa\", \"Theo\", \"Theresa\", \"Thomas\", \"Tina\", \"Tobias\", \"Todd\",\n",
    "    \"Tony\", \"Tracy\", \"Travis\", \"Trevor\", \"Troy\", \"Tyson\", \"Ulysses\", \"Valerie\", \"Van\", \"Vera\",\n",
    "    \"Veronica\", \"Victor\", \"Vivian\", \"Walter\", \"Warren\", \"Wayne\", \"Wendy\", \"Wesley\", \"Whitney\",\n",
    "    \"Will\", \"Willow\", \"Winston\", \"Xander\", \"Xavier\", \"Yasmin\", \"Yvette\", \"Yvonne\", \"Zane\", \"Zelda\",\n",
    "    \"Zion\", \"Zoey\"\n",
    "]\n",
    "\n",
    "surnames = [\n",
    "    \"Adams\", \"Alexander\", \"Ali\", \"Allen\", \"Anderson\", \"Armstrong\", \"Arnold\", \"Atkinson\", \"Austin\", \"Bailey\",\n",
    "    \"Baker\", \"Ball\", \"Banks\", \"Barber\", \"Barnes\", \"Barrett\", \"Bates\", \"Beck\", \"Bell\", \"Bennett\",\n",
    "    \"Berry\", \"Black\", \"Blake\", \"Booth\", \"Bradley\", \"Brady\", \"Brooks\", \"Brown\", \"Bryant\", \"Burns\",\n",
    "    \"Burton\", \"Butler\", \"Campbell\", \"Carter\", \"Chambers\", \"Chapman\", \"Chavez\", \"Clark\", \"Coleman\",\n",
    "    \"Collins\", \"Cook\", \"Cooper\", \"Cox\", \"Craig\", \"Crawford\", \"Cross\", \"Cruz\", \"Cunningham\",\n",
    "    \"Daniels\", \"Davidson\", \"Davies\", \"Davis\", \"Day\", \"Dean\", \"Diaz\", \"Dixon\", \"Douglas\", \"Duncan\",\n",
    "    \"Dunn\", \"Edwards\", \"Elliott\", \"Ellis\", \"Evans\", \"Ferguson\", \"Fisher\", \"Fleming\", \"Fletcher\",\n",
    "    \"Flores\", \"Ford\", \"Foster\", \"Fox\", \"Francis\", \"Freeman\", \"Garcia\", \"Gardner\", \"Garrett\",\n",
    "    \"George\", \"Gibson\", \"Gilbert\", \"Gillespie\", \"Gill\", \"Glover\", \"Gonzales\", \"Gonzalez\", \"Goodman\",\n",
    "    \"Gordon\", \"Graham\", \"Grant\", \"Gray\", \"Green\", \"Greene\", \"Griffin\", \"Hall\", \"Hamilton\", \"Hammond\",\n",
    "    \"Hansen\", \"Hanson\", \"Harding\", \"Harper\", \"Harris\", \"Harrison\", \"Hart\", \"Harvey\", \"Hawkins\",\n",
    "    \"Hayes\", \"Henderson\", \"Henry\", \"Hernandez\", \"Hicks\", \"Hill\", \"Hines\", \"Hoffman\", \"Holland\",\n",
    "    \"Holmes\", \"Howard\", \"Howell\", \"Hudson\", \"Hughes\", \"Hunter\", \"Jackson\", \"Jacobs\", \"James\",\n",
    "    \"Jenkins\", \"Jennings\", \"Johnson\", \"Johnston\", \"Jones\", \"Jordan\", \"Joseph\", \"Kelley\", \"Kelly\",\n",
    "    \"Kennedy\", \"Kerr\", \"Kim\", \"King\", \"Knight\", \"Lambert\", \"Lane\", \"Lawrence\", \"Lawson\", \"Lee\",\n",
    "    \"Lewis\", \"Lloyd\", \"Long\", \"Lopez\", \"Love\", \"Lowe\", \"Lucas\", \"Lynch\", \"Marshall\", \"Martin\",\n",
    "    \"Martinez\", \"Mason\", \"Matthews\", \"Maxwell\", \"McCarthy\", \"McDonald\", \"McGee\", \"McKenzie\",\n",
    "    \"McLaughlin\", \"Mendoza\", \"Meyer\", \"Miller\", \"Mills\", \"Mitchell\", \"Moore\", \"Morales\", \"Morgan\",\n",
    "    \"Morris\", \"Morrison\", \"Murphy\", \"Murray\", \"Myers\", \"Nelson\", \"Newman\", \"Newton\", \"Nguyen\",\n",
    "    \"Nichols\", \"Nicholson\", \"Norton\", \"O’Brien\", \"O’Connor\", \"O’Donnell\", \"O’Neill\", \"Olson\",\n",
    "    \"Ortiz\", \"Owens\", \"Palmer\", \"Parker\", \"Patel\", \"Patrick\", \"Payne\", \"Pearson\", \"Perez\",\n",
    "    \"Perry\", \"Peterson\", \"Phillips\", \"Porter\", \"Powell\", \"Price\", \"Quinn\", \"Ramirez\", \"Ramos\",\n",
    "    \"Reed\", \"Reid\", \"Reyes\", \"Reynolds\", \"Rice\", \"Richards\", \"Richardson\", \"Riley\", \"Rivera\",\n",
    "    \"Roberts\", \"Robertson\", \"Robinson\", \"Rodriguez\", \"Rogers\", \"Romero\", \"Rose\", \"Ross\", \"Russell\",\n",
    "    \"Ryan\", \"Salazar\", \"Sanders\", \"Sandoval\", \"Santiago\", \"Santos\", \"Schmidt\", \"Scott\", \"Sharp\",\n",
    "    \"Shaw\", \"Shelton\", \"Shepherd\", \"Simpson\", \"Smith\", \"Spencer\", \"Stanley\", \"Stephens\", \"Stevens\",\n",
    "    \"Stewart\", \"Stone\", \"Sullivan\", \"Summers\", \"Taylor\", \"Thomas\", \"Thompson\", \"Torres\",\n",
    "    \"Townsend\", \"Tran\", \"Turner\", \"Valdez\", \"Vargas\", \"Vasquez\", \"Wagner\", \"Walker\", \"Wallace\",\n",
    "    \"Walsh\", \"Walters\", \"Ward\", \"Waters\", \"Watkins\", \"Watson\", \"Weaver\", \"Webb\", \"Weber\",\n",
    "    \"Welch\", \"Wells\", \"West\", \"Wheeler\", \"White\", \"Wilkins\", \"Williams\", \"Williamson\",\n",
    "    \"Willis\", \"Wilson\", \"Wright\", \"Young\", \"Zimmerman\", \"Abbott\", \"Alvarez\", \"Anthony\",\n",
    "    \"Bishop\", \"Carlson\", \"Dalton\", \"Everett\", \"Fitzgerald\", \"Grayson\", \"Hoffman\",\n",
    "    \"Jefferson\", \"Kennedy\", \"Lang\", \"Mathis\", \"Nash\", \"Oliver\", \"Palmer\", \"Quincy\", \"Shepard\",\n",
    "    \"Tate\", \"Underwood\", \"Valentine\", \"Wagner\", \"Xavier\", \"York\", \"Zuniga\"\n",
    "]\n",
    "\n",
    "streets = [\n",
    "    \"Maple Street, Springfield\", \"Oak Avenue, Rivertown\", \"Pine Lane, Lakewood\",\n",
    "    \"Birch Road, Greenfield\", \"Cedar Court, Riverdale\", \"Elm Drive, Willowtown\",\n",
    "    \"Ash Street, Brookside\", \"Cherry Lane, Bayside\", \"Walnut Avenue, Highland\",\n",
    "    \"Sycamore Road, Meadowbrook\", \"Magnolia Street, Sunnyvale\", \"Palm Drive, Oceanside\",\n",
    "    \"Cypress Court, Rosewood\", \"Poplar Lane, Forestville\", \"Redwood Road, Clearview\",\n",
    "    \"Pinehurst Avenue, Ridgefield\", \"Valley Street, Cloverfield\", \"Orchard Road, Mapleton\",\n",
    "    \"Garden Street, Birchwood\", \"Meadow Lane, Fairfield\", \"Hillcrest Avenue, Crestwood\",\n",
    "    \"Sunset Drive, Greenwood\", \"River Road, Edgewater\", \"Park Avenue, Bloomfield\",\n",
    "    \"Elmwood Street, Sandstone\", \"Willow Lane, Oakridge\", \"Aspen Court, Pinecrest\",\n",
    "    \"Lakeview Drive, Clear Lake\", \"Highland Road, Northfield\", \"Spring Street, Timberwood\",\n",
    "    \"Horizon Drive, Westlake\", \"Sunrise Avenue, Elmwood\", \"Horizon Court, Fairview\",\n",
    "    \"Woodland Road, Bridgeport\", \"Harbor Drive, Lakeside\", \"Summit Avenue, Riverview\",\n",
    "    \"Ridgeway Street, Hilltop\", \"Forest Lane, Glenwood\", \"Seaview Road, Windermere\",\n",
    "    \"Horizon Street, Belmont\", \"Crystal Avenue, Stonebridge\", \"Sunrise Lane, Waterford\",\n",
    "    \"Serenity Drive, Clearbrook\", \"Starlight Avenue, Riverbend\", \"Moonlight Road, Brighton\",\n",
    "    \"Sunshine Street, Bayshore\", \"Horizon Drive, Willow Creek\", \"Sunset Lane, Deerfield\",\n",
    "    \"Vista Avenue, Southport\", \"Hilltop Street, Crestview\", \"Brookfield Road, Greenwood\",\n",
    "    \"Waterfall Lane, Meadowview\", \"Mountain Road, Fairhaven\", \"Evergreen Avenue, Sandpoint\",\n",
    "    \"Cliffside Drive, Ridgewood\", \"Oceanview Lane, Harborview\", \"Lakeshore Avenue, Driftwood\",\n",
    "    \"Elmwood Court, Forest Haven\", \"Maple Drive, Pine Grove\", \"Birch Avenue, Whispering Pines\",\n",
    "    \"Cedar Lane, Timber Ridge\", \"Oak Street, Sunny Hills\", \"Ash Drive, Rivermist\",\n",
    "    \"Cherry Road, Valley Heights\", \"Walnut Lane, Lakehaven\", \"Poplar Court, Willow Glen\",\n",
    "    \"Aspen Drive, Northbrook\", \"Magnolia Lane, Southridge\", \"Sequoia Avenue, Woodland Park\",\n",
    "    \"Palm Court, Eastwood\", \"Cypress Lane, Briarwood\", \"Sycamore Street, Hillcrest\",\n",
    "    \"Redwood Drive, Meadowlark\", \"Maplewood Avenue, Birch Valley\", \"Cedarwood Court, Brookhaven\",\n",
    "    \"Willow Way, Creekside\", \"Highland Avenue, Rockford\", \"Valley Drive, Sunset Ridge\",\n",
    "    \"Riverbend Street, Brookfield\", \"Sunset Drive, Glenview\", \"Sunrise Lane, Timber Valley\",\n",
    "    \"Clearview Road, Stone Creek\", \"Oceanview Avenue, Driftwood Shores\", \"Harbor Lane, Bayside Ridge\",\n",
    "    \"Starlight Street, Whispering Oaks\", \"Moonrise Avenue, Shadowbrook\", \"Sunshine Drive, Morningwood\",\n",
    "    \"Crystal Court, Twilight Ridge\", \"Serenity Lane, Forest View\", \"Meadowbrook Drive, Ridgeview\",\n",
    "    \"Vista Lane, Highland Grove\", \"Spring Avenue, Waterstone\", \"Orchard Street, Cloverwood\",\n",
    "    \"Garden Lane, Valleyview\", \"Summit Drive, Ridgefield\", \"Cliffside Avenue, Crestwood Heights\",\n",
    "    \"Lakeside Lane, Harborlight\", \"Hilltop Road, Stonebridge Hills\", \"Riverfront Drive, Clearbrook\",\n",
    "    \"Willow Road, Bayside\", \"Aspen Avenue, Meadowview\", \"Birch Drive, Driftwood\",\n",
    "    \"Cedar Street, Timberline\", \"Oakwood Lane, Whispering Willows\", \"Pinecrest Road, Morningstar\",\n",
    "    \"Elmwood Avenue, Clear Ridge\", \"Maplewood Street, Hilltop Haven\", \"Redwood Lane, Riverview Heights\",\n",
    "    \"Cypress Drive, Crystal Valley\", \"Poplar Road, Oakridge Hills\", \"Sycamore Avenue, Meadow Ridge\",\n",
    "    \"Magnolia Street, Clover Heights\", \"Valley Road, Sunstone\", \"River Drive, Harbor Haven\",\n",
    "    \"Garden Street, Pine Valley\", \"Spring Road, Fairmont\", \"Hillcrest Avenue, Shadowstone\",\n",
    "    \"Horizon Drive, Moonlight Ridge\", \"Oceanview Street, Bayshore Ridge\", \"Crystal Lane, Morningdale\",\n",
    "    \"Sunrise Avenue, Willow Heights\", \"Starlight Drive, Briarwood Hills\", \"Moonrise Lane, Driftwood Cove\",\n",
    "    \"Meadow Lane, Sunrise Ridge\", \"Sunset Avenue, Stonebrook\", \"Mountain Drive, Ridgewood Park\",\n",
    "    \"Clearview Street, Timberlake\", \"Brookside Lane, Meadowstone\", \"Valley Road, Forestwood\",\n",
    "    \"Ridgeview Drive, Creststone\", \"Waterfall Avenue, Willow Ridge\", \"Serenity Lane, Sandridge\",\n",
    "    \"Twilight Road, Northstone\", \"Morningwood Drive, Riverwood\", \"Shadowbrook Lane, Timberline Ridge\",\n",
    "    \"Whispering Oaks Avenue, Meadow Creek\", \"Stonebridge Road, Forest Ridge\", \"Sunstone Lane, Ridgeview Park\",\n",
    "    \"Amber Lane, Rosewood\", \"Autumn Drive, Evergreen\", \"Bayberry Street, Northpoint\",\n",
    "    \"Blossom Court, Meadowbrook\", \"Bluebird Lane, Cedar Ridge\", \"Briarwood Drive, Springdale\",\n",
    "    \"Brookstone Avenue, Hillside\", \"Buttercup Street, Clearfield\", \"Camellia Lane, Willow Grove\",\n",
    "    \"Canyon Road, Shadow Creek\", \"Chestnut Street, Ridgewood\", \"Clover Lane, Southport\",\n",
    "    \"Cobblestone Court, Rockhaven\", \"Country Club Road, Greenfield\", \"Creekside Avenue, Sunnyvale\",\n",
    "    \"Crimson Lane, Harborview\", \"Daisy Drive, Meadow Heights\", \"Dogwood Lane, Riverview\",\n",
    "    \"Driftwood Avenue, Oceanside\", \"Eagle Ridge Road, Stonefield\", \"Fernwood Lane, Pine Grove\",\n",
    "    \"Foxglove Street, Timberlake\", \"Goldenrod Lane, Fairview\", \"Hawthorne Avenue, Westfield\",\n",
    "    \"Hemlock Road, Birchwood\", \"Heron Drive, Waterford\", \"Hickory Lane, Bridgeport\",\n",
    "    \"Honeysuckle Court, Sandridge\", \"Juniper Street, Harborlight\", \"Larkspur Road, Deerfield\",\n",
    "    \"Lilac Lane, Crestview\", \"Marigold Drive, Valleyview\", \"Morningstar Avenue, Ridgefield\",\n",
    "    \"Northwood Lane, Meadowstone\", \"Orchid Road, Hilltop\", \"Pebble Creek Drive, Greenwood\",\n",
    "    \"Primrose Avenue, Rosemont\", \"Quail Hollow Road, Cliffside\", \"Riverside Lane, Seabrook\",\n",
    "    \"Rosewood Drive, Highland\", \"Silver Birch Street, Lakewood\", \"Snowdrop Lane, Oakwood\",\n",
    "    \"Spring Blossom Court, Elmwood\", \"Stonewall Road, Ridgewood\", \"Sugar Maple Avenue, Clearview\",\n",
    "    \"Sunnyfield Drive, Bayside\", \"Sweetbriar Lane, Northwood\", \"Thistle Court, Meadowbrook\",\n",
    "    \"Timberline Drive, Crystal Valley\", \"Tranquil Lane, Briarwood\", \"Wildflower Road, Brookside\",\n",
    "    \"Winding Way, Creststone\", \"Woodland Avenue, Pinehurst\", \"Acorn Street, Fairmount\",\n",
    "    \"Alder Lane, Rosewood Heights\", \"Amethyst Court, Willow Ridge\", \"Apple Blossom Avenue, Morningwood\",\n",
    "    \"Arbor Street, Northbridge\", \"Aspen Lane, Maplewood\", \"Aurora Drive, Valleystone\",\n",
    "    \"Beaver Brook Road, Clearview Estates\", \"Bellflower Lane, Ridgewood Park\", \"Birchwood Drive, Meadowbrook\",\n",
    "    \"Blackberry Lane, Fairway Ridge\", \"Bridle Path Road, Seaside Hills\", \"Butterfly Court, Forest Heights\",\n",
    "    \"Canyon View Drive, Greenhaven\", \"Cascade Lane, Springhill\", \"Cedarbrook Road, Whispering Pines\",\n",
    "    \"Cherry Blossom Lane, Southridge\", \"Cider Mill Road, Timber Valley\", \"Cloudberry Court, Lakeview Estates\",\n",
    "    \"Copper Ridge Road, Brookhaven\", \"Crimson Clover Lane, Valley Grove\", \"Cypress Hollow, Ridgeview Estates\",\n",
    "    \"Deer Hollow Drive, Highland Springs\", \"Desert Willow Road, Pine Meadows\", \"Dewdrop Lane, Meadowlark\",\n",
    "    \"Emerald Drive, Shady Acres\", \"Fawn Meadow Lane, Woodland Springs\", \"Forest Glen Drive, Harbor Ridge\",\n",
    "    \"Golden Meadow Road, Timberline Estates\", \"Harvest Lane, Clearbrook Ridge\", \"Hazelwood Drive, Elm Valley\",\n",
    "    \"Heather Glen Road, Sunny Ridge\", \"Hickory Hollow Lane, Meadowstone Heights\", \"Highland Meadow Drive, Crescent Ridge\",\n",
    "    \"Hummingbird Lane, Whispering Woods\", \"Juniper Grove Court, Stone Ridge\", \"Lakeshore Drive, Woodland Haven\",\n",
    "    \"Lavender Court, Rose Hill\", \"Lilac Blossom Lane, Meadowfield\", \"Maple Leaf Drive, Brookside Heights\",\n",
    "    \"Meadow Mist Lane, Springwood\", \"Morning Glory Road, Timber Creek\", \"Mountain Laurel Drive, Green Meadow\",\n",
    "    \"Pine Hollow Lane, Clear Ridge\", \"River Birch Road, Brookfield\", \"Sagewood Lane, North Haven\",\n",
    "    \"Seabreeze Drive, Crystal Bay\", \"Shadowbrook Road, Highland Creek\", \"Silverleaf Lane, Stonebrook\",\n",
    "    \"Snowberry Drive, Willow Valley\", \"Starlight Lane, Ridgefield Heights\", \"Sugar Plum Lane, Meadowgreen\",\n",
    "    \"Timber Ridge Road, Northpoint\", \"Trillium Lane, Pinecrest\", \"Vista Ridge Drive, Morningstar\",\n",
    "    \"Walnut Grove Lane, Fairhaven\", \"Whispering Willow Road, Sunrise Ridge\", \"Wildrose Lane, Cedarwood Estates\",\n",
    "    \"Winterberry Drive, Forest Glen\", \"Woodhaven Drive, Sunnydale\", \"Woods Edge Lane, Timberwood\",\n",
    "    \"Acacia Court, Glenbrook\", \"Amberwood Drive, Maplewood\", \"Autumn Breeze Lane, Ridgefield\",\n",
    "    \"Baywood Drive, Pine Grove\", \"Briar Patch Road, Sandstone Heights\", \"Canyon Creek Lane, Willowwood\",\n",
    "    \"Cottonwood Court, Driftwood\", \"Crabapple Lane, Harborview Estates\", \"Creek Hollow Road, Meadowbrook Estates\",\n",
    "    \"Crystal Lake Road, Cedar Ridge\", \"Deer Path Lane, Forest Haven\", \"Dove Meadow Drive, Morningview\",\n",
    "    \"Elderberry Court, Valley Haven\", \"Frostwood Drive, Pine Meadows\", \"Glenwood Lane, Timberland Estates\",\n",
    "    \"Golden Aspen Drive, Northfield\", \"Harvest Moon Lane, Ridgewood Heights\", \"Hearthstone Drive, Clearview Estates\",\n",
    "    \"Hemlock Hollow, Meadow Glen\", \"Hidden Valley Drive, Seaside Hills\", \"Holly Leaf Lane, Sunrise Estates\",\n",
    "    \"Ivywood Court, Whispering Meadows\", \"Juniper Knoll Road, Cedarwood\", \"Lakewood Drive, Highland Springs\",\n",
    "    \"Lavender Bloom Lane, Meadowbrook Grove\", \"Magnolia Blossom Road, Shady Pines\", \"Morningview Lane, Sunnybrook\"\n",
    "]\n",
    "\n"
   ],
   "id": "179a769e416002c4",
   "outputs": [],
   "execution_count": 23
  },
  {
   "metadata": {
    "ExecuteTime": {
     "end_time": "2024-12-16T12:23:56.845173Z",
     "start_time": "2024-12-16T12:23:56.821913Z"
    }
   },
   "cell_type": "code",
   "source": [
    "import json\n",
    "from datetime import datetime, timedelta\n",
    "import random\n",
    "\n",
    "\n",
    "def generate_random_address():\n",
    "    street = random.choice(streets)\n",
    "    number = random.randint(1, 9999)  # Generate a random number between 1 and 9999\n",
    "    return f\"{number} {street}\"\n",
    "\n",
    "# Generate random patients\n",
    "def generate_patients(age_distribution, reference_year, num_patients=100):\n",
    "    patients = []\n",
    "    unique_ages = list(age_distribution.keys())\n",
    "    used_ids = set()\n",
    "\n",
    "    for _ in range(num_patients):\n",
    "        # Assign age and calculate birth year\n",
    "        age = random.choice(unique_ages)\n",
    "        birth_year = reference_year - age\n",
    "\n",
    "        # Generate random name and surname\n",
    "        name = random.choice(names)\n",
    "        surname = random.choice(surnames)\n",
    "\n",
    "        # Ensure unique patient_id\n",
    "        patient_id = f\"P{random.randint(1000, 9999)}\"\n",
    "        while patient_id in used_ids:\n",
    "            patient_id = f\"P{random.randint(1000, 9999)}\"\n",
    "        used_ids.add(patient_id)\n",
    "\n",
    "        # Generate a random birth date within the birth year\n",
    "        birth_date = datetime(birth_year, 1, 1) + timedelta(days=random.randint(0, 364))\n",
    "        birth_date_str = birth_date.strftime(\"%Y-%m-%d\")\n",
    "\n",
    "        # Assign random address\n",
    "        address = generate_random_address()\n",
    "\n",
    "        # Create patient dictionary\n",
    "        patient = {\n",
    "            \"patient_id\": patient_id,\n",
    "            \"name\": name,\n",
    "            \"surname\": surname,\n",
    "            \"birth_date\": birth_date_str,\n",
    "            \"address\": address\n",
    "        }\n",
    "        patients.append(patient)\n",
    "\n",
    "    return patients\n",
    "\n",
    "# Age distribution and reference year\n",
    "age_distribution = {\n",
    "    90: 155,\n",
    "    85: 149,\n",
    "    75: 135,\n",
    "    80: 129,\n",
    "    70: 110,\n",
    "    65: 78,\n",
    "    60: 71,\n",
    "    55: 60,\n",
    "    50: 36,\n",
    "    45: 28,\n",
    "    35: 28,\n",
    "    40: 23,\n",
    "    25: 19,\n",
    "    30: 18,\n",
    "    20: 11\n",
    "}\n",
    "reference_year = 2015\n",
    "\n",
    "# Generate patients\n",
    "patients = generate_patients(age_distribution, reference_year, num_patients=100)\n",
    "\n",
    "# Save to JSON file\n",
    "output_file = \"patients.json\"\n",
    "with open(output_file, \"w\") as file:\n",
    "    json.dump(patients, file, indent=4)\n",
    "\n",
    "print(f\"Patient database saved to {output_file}\")\n"
   ],
   "id": "3c2aa215906d91a2",
   "outputs": [
    {
     "name": "stdout",
     "output_type": "stream",
     "text": [
      "Patient database saved to patients.json\n"
     ]
    }
   ],
   "execution_count": 24
  },
  {
   "metadata": {
    "ExecuteTime": {
     "end_time": "2024-12-14T11:38:23.706777Z",
     "start_time": "2024-12-14T11:38:23.701781Z"
    }
   },
   "cell_type": "code",
   "source": [
    "# Step 2: Add Patient Information to XES File\n",
    "def add_patient_info_to_xes(input_xes, output_xes, patients_df):\n",
    "    tree = ET.parse(input_xes)\n",
    "    root = tree.getroot()\n",
    "\n",
    "    # Define XES namespace\n",
    "    namespace = {'xes': 'http://www.xes-standard.org/'}\n",
    "    ET.register_namespace('', 'http://www.xes-standard.org/')\n",
    "\n",
    "    # Assign patients to traces\n",
    "    patient_index = 0\n",
    "    for trace in root.findall('trace', namespace):\n",
    "        # Assign patient information\n",
    "        patient = patients_df.iloc[patient_index % len(patients_df)]\n",
    "        patient_index += 1\n",
    "\n",
    "        # Add patient attributes to trace\n",
    "        patient_id_elem = ET.Element('string', key=\"patient_id\", value=patient['patient_id'])\n",
    "        name_elem = ET.Element('string', key=\"name\", value=patient['name'])\n",
    "        surname_elem = ET.Element('string', key=\"surname\", value=patient['surname'])\n",
    "        age_elem = ET.Element('int', key=\"age\", value=str(patient['age']))\n",
    "        birth_year_elem = ET.Element('int', key=\"birth_year\", value=str(patient['birth_year']))\n",
    "        trace.extend([patient_id_elem, name_elem, surname_elem, age_elem, birth_year_elem])\n",
    "\n",
    "    # Save the modified XES file\n",
    "    tree.write(output_xes, encoding='UTF-8', xml_declaration=True)\n",
    "    print(f\"\\nModified XES file saved as: {output_xes}\")"
   ],
   "id": "ac4a8a6dfea20944",
   "outputs": [],
   "execution_count": 22
  },
  {
   "metadata": {
    "ExecuteTime": {
     "end_time": "2024-12-14T11:52:09.465967Z",
     "start_time": "2024-12-14T11:52:09.461284Z"
    }
   },
   "cell_type": "code",
   "source": [
    "def add_patient_info_to_event(input_xes, output_xes, patients_df):\n",
    "    tree = ET.parse(input_xes)\n",
    "    root = tree.getroot()\n",
    "\n",
    "    # Define XES namespace\n",
    "    namespace = {'xes': 'http://www.xes-standard.org/'}\n",
    "    ET.register_namespace('', 'http://www.xes-standard.org/')\n",
    "\n",
    "    # Assign patients to traces\n",
    "    patient_index = 0\n",
    "    for trace in root.findall('trace', namespace):\n",
    "        # Assign patient information\n",
    "        patient = patients_df.iloc[patient_index % len(patients_df)]\n",
    "        patient_index += 1\n",
    "\n",
    "        # Add patient information to the first event\n",
    "        for event in trace.findall('event', namespace):\n",
    "            # Create the patient elements\n",
    "            patient_id_elem = ET.Element('string', key=\"patient_id\", value=patient['patient_id'])\n",
    "            name_elem = ET.Element('string', key=\"name\", value=patient['name'])\n",
    "            surname_elem = ET.Element('string', key=\"surname\", value=patient['surname'])\n",
    "            birth_year_elem = ET.Element('int', key=\"birth_year\", value=str(patient['birth_year']))\n",
    "\n",
    "            # Find the `<int key=\"Age\" />` element in the event\n",
    "            age_elem = None\n",
    "            for child in event:\n",
    "                if child.tag == \"int\" and child.attrib.get('key') == 'Age':\n",
    "                    age_elem = child\n",
    "                    break\n",
    "\n",
    "            # Insert the patient elements after the age element\n",
    "            if age_elem is not None:\n",
    "                age_index = list(event).index(age_elem)\n",
    "                event.insert(age_index + 1, patient_id_elem)\n",
    "                event.insert(age_index + 2, name_elem)\n",
    "                event.insert(age_index + 3, surname_elem)\n",
    "                event.insert(age_index + 4, birth_year_elem)\n",
    "            else:\n",
    "                # If Age is not found, add the patient info at the end of the event\n",
    "                event.extend([patient_id_elem, name_elem, surname_elem, birth_year_elem])\n",
    "\n",
    "    # Save the modified XES file\n",
    "    tree.write(output_xes, encoding='UTF-8', xml_declaration=True)\n",
    "    print(f\"\\nModified XES file saved as: {output_xes}\")"
   ],
   "id": "97f0da284f96cc6f",
   "outputs": [],
   "execution_count": 34
  },
  {
   "metadata": {
    "ExecuteTime": {
     "end_time": "2024-12-14T13:50:19.640940Z",
     "start_time": "2024-12-14T13:50:19.623664Z"
    }
   },
   "cell_type": "code",
   "source": [
    "from xml.dom import minidom\n",
    "def add_patient_info_with_pretty_formatting(input_xes, output_xes, patients_df):\n",
    "    tree = ET.parse(input_xes)\n",
    "    root = tree.getroot()\n",
    "\n",
    "    # Define XES namespace\n",
    "    namespace = {'xes': 'http://www.xes-standard.org/'}\n",
    "    ET.register_namespace('', 'http://www.xes-standard.org/')\n",
    "\n",
    "    # Assign patients to traces\n",
    "    patient_index = 0\n",
    "    for trace in root.findall('trace', namespace):\n",
    "        # Assign patient information\n",
    "        patient = patients_df.iloc[patient_index % len(patients_df)]\n",
    "        patient_index += 1\n",
    "\n",
    "        # Add patient information to the first event\n",
    "        for event in trace.findall('event', namespace):\n",
    "            # Create the patient elements\n",
    "            patient_id_elem = ET.Element('string', key=\"patient_id\", value=patient['patient_id'])\n",
    "            name_elem = ET.Element('string', key=\"name\", value=patient['name'])\n",
    "            surname_elem = ET.Element('string', key=\"surname\", value=patient['surname'])\n",
    "            birth_year_elem = ET.Element('int', key=\"birth_year\", value=str(patient['birth_year']))\n",
    "\n",
    "            # Find the `<int key=\"Age\" />` element in the event\n",
    "            age_elem = None\n",
    "            for child in event:\n",
    "                if child.tag == \"int\" and child.attrib.get('key') == 'Age':\n",
    "                    age_elem = child\n",
    "                    break\n",
    "\n",
    "            # Insert the patient elements after the age element\n",
    "            if age_elem is not None:\n",
    "                age_index = list(event).index(age_elem)\n",
    "                event.insert(age_index + 1, patient_id_elem)\n",
    "                event.insert(age_index + 2, name_elem)\n",
    "                event.insert(age_index + 3, surname_elem)\n",
    "                event.insert(age_index + 4, birth_year_elem)\n",
    "\n",
    "                # Add a comment as a placeholder to insert a newline after this block\n",
    "                newline_elem = ET.Comment('\\n')\n",
    "                event.insert(age_index + 5, newline_elem)\n",
    "            else:\n",
    "                # If Age is not found, add the patient info at the end of the event\n",
    "                event.extend([patient_id_elem, name_elem, surname_elem, birth_year_elem])\n",
    "\n",
    "    # Save the XML back to the file\n",
    "    tree.write(output_xes, encoding=\"utf-8\", xml_declaration=True)\n",
    "\n",
    "    # Reformat the XML to ensure each tag is on its own line\n",
    "    with open(output_xes, \"r\", encoding=\"utf-8\") as f:\n",
    "        lines = f.read()\n",
    "\n",
    "# Reformat XML with proper indentation\n",
    "    formatted_lines = []\n",
    "    indent_level = 0\n",
    "    for line in lines.splitlines():\n",
    "        line = line.strip()\n",
    "        if line.startswith(\"</\"):\n",
    "            indent_level -= 1\n",
    "        formatted_lines.append(\"  \" * indent_level + line)\n",
    "        if line.startswith(\"<\") and not line.startswith(\"</\") and not line.endswith(\"/>\"):\n",
    "            indent_level += 1\n",
    "\n",
    "    # Write the reformatted XML back to the file\n",
    "    with open(output_xes, \"w\", encoding=\"utf-8\") as f:\n",
    "        f.write(\"\\n\".join(formatted_lines))\n",
    "\n",
    "\n",
    "    print(f\"\\nModified XES file saved as: {output_xes}\")"
   ],
   "id": "621fd5faa4888fb1",
   "outputs": [],
   "execution_count": 48
  },
  {
   "metadata": {
    "ExecuteTime": {
     "end_time": "2024-12-16T11:33:52.094171Z",
     "start_time": "2024-12-16T11:33:51.895883Z"
    }
   },
   "cell_type": "code",
   "source": [
    "from xml.dom import minidom\n",
    "def add_patient_info_v(input_xes, output_xes, patients_df):\n",
    "    tree = ET.parse(input_xes)\n",
    "    root = tree.getroot()\n",
    "\n",
    "    # Define XES namespace\n",
    "    namespace = {'xes': 'http://www.xes-standard.org/'}\n",
    "    ET.register_namespace('xes', 'http://www.xes-standard.org/')\n",
    "\n",
    "    # Assign patients to traces\n",
    "    patient_index = 0\n",
    "    for trace in root.findall('trace', namespace):\n",
    "        print(trace.find('string', namespace).attrib.get('value'))\n",
    "        for event in trace.findall('event', namespace):\n",
    "            patient_id_elem = ET.Element('string', key=\"patient_id\", value=\"000\")\n",
    "            name_elem = ET.Element('string', key=\"name\", value=\"Valerio\")\n",
    "            surname_elem = ET.Element('string', key=\"surname\", value=\"Goretti\")\n",
    "            birth_year_elem = ET.Element('int', key=\"birth_year\", value=str(1998))\n",
    "\n",
    "            for child in event:\n",
    "                if child.tag == \"int\" and child.attrib.get('key') == 'Age':\n",
    "                    event.extend([patient_id_elem, name_elem, surname_elem, birth_year_elem])\n",
    "            break\n",
    "        break\n",
    "\n",
    "    tree.write(output_xes, encoding='UTF-8', xml_declaration=True, pretty_print=True)\n",
    "    print(f\"\\nModified XES file saved as: {output_xes}\")\n",
    "\n",
    "\n",
    "input_xes_path = \"Sepsis/sepsis.xes\"\n",
    "output_xes_path = \"sepsis_patientInfo.xes\"\n",
    "add_patient_info_v(input_xes_path, output_xes_path, patients_df)"
   ],
   "id": "40b585a4eeb92f67",
   "outputs": [
    {
     "name": "stdout",
     "output_type": "stream",
     "text": [
      "A\n",
      "\n",
      "Modified XES file saved as: sepsis_patientInfo.xes\n"
     ]
    }
   ],
   "execution_count": 16
  },
  {
   "metadata": {
    "ExecuteTime": {
     "end_time": "2024-12-16T11:33:59.605839Z",
     "start_time": "2024-12-16T11:33:59.352094Z"
    }
   },
   "cell_type": "code",
   "source": [
    "def print_log(input_xes):\n",
    "    tree = ET.parse(input_xes)\n",
    "    root = tree.getroot()\n",
    "\n",
    "    # Define XES namespace\n",
    "    namespace = {'xes': 'http://www.xes-standard.org/'}\n",
    "    ET.register_namespace('xes', 'http://www.xes-standard.org/')\n",
    "\n",
    "    # Assign patients to traces\n",
    "    patient_index = 0\n",
    "    for trace in root.findall('trace', namespace):\n",
    "        print(trace.find('string', namespace).attrib.get('value'))\n",
    "        for event in trace.findall('event', namespace):\n",
    "            for child in event:\n",
    "                print(child.tag, child.attrib)\n",
    "        break\n",
    "print_log(\"sepsis_patientInfo.xes\")"
   ],
   "id": "cce0ae6194efd2fe",
   "outputs": [
    {
     "name": "stdout",
     "output_type": "stream",
     "text": [
      "A\n",
      "boolean {'key': 'InfectionSuspected', 'value': 'true'}\n",
      "string {'key': 'org:group', 'value': 'A'}\n",
      "boolean {'key': 'DiagnosticBlood', 'value': 'true'}\n",
      "boolean {'key': 'DisfuncOrg', 'value': 'true'}\n",
      "boolean {'key': 'SIRSCritTachypnea', 'value': 'true'}\n",
      "boolean {'key': 'Hypotensie', 'value': 'true'}\n",
      "boolean {'key': 'SIRSCritHeartRate', 'value': 'true'}\n",
      "boolean {'key': 'Infusion', 'value': 'true'}\n",
      "boolean {'key': 'DiagnosticArtAstrup', 'value': 'true'}\n",
      "string {'key': 'concept:name', 'value': 'ER Registration'}\n",
      "int {'key': 'Age', 'value': '85'}\n",
      "boolean {'key': 'DiagnosticIC', 'value': 'true'}\n",
      "boolean {'key': 'DiagnosticSputum', 'value': 'false'}\n",
      "boolean {'key': 'DiagnosticLiquor', 'value': 'false'}\n",
      "boolean {'key': 'DiagnosticOther', 'value': 'false'}\n",
      "boolean {'key': 'SIRSCriteria2OrMore', 'value': 'true'}\n",
      "boolean {'key': 'DiagnosticXthorax', 'value': 'true'}\n",
      "boolean {'key': 'SIRSCritTemperature', 'value': 'true'}\n",
      "date {'key': 'time:timestamp', 'value': '2014-10-22T11:15:41.000+02:00'}\n",
      "boolean {'key': 'DiagnosticUrinaryCulture', 'value': 'true'}\n",
      "boolean {'key': 'SIRSCritLeucos', 'value': 'false'}\n",
      "boolean {'key': 'Oligurie', 'value': 'false'}\n",
      "boolean {'key': 'DiagnosticLacticAcid', 'value': 'true'}\n",
      "string {'key': 'lifecycle:transition', 'value': 'complete'}\n",
      "string {'key': 'Diagnose', 'value': 'A'}\n",
      "boolean {'key': 'Hypoxie', 'value': 'false'}\n",
      "boolean {'key': 'DiagnosticUrinarySediment', 'value': 'true'}\n",
      "boolean {'key': 'DiagnosticECG', 'value': 'true'}\n",
      "string {'key': 'patient_id', 'value': '000'}\n",
      "string {'key': 'name', 'value': 'Valerio'}\n",
      "string {'key': 'surname', 'value': 'Goretti'}\n",
      "int {'key': 'birth_year', 'value': '1998'}\n",
      "float {'key': 'Leucocytes', 'value': '9.6'}\n",
      "string {'key': 'org:group', 'value': 'B'}\n",
      "string {'key': 'lifecycle:transition', 'value': 'complete'}\n",
      "string {'key': 'concept:name', 'value': 'Leucocytes'}\n",
      "date {'key': 'time:timestamp', 'value': '2014-10-22T11:27:00.000+02:00'}\n",
      "float {'key': 'CRP', 'value': '21.0'}\n",
      "string {'key': 'org:group', 'value': 'B'}\n",
      "string {'key': 'lifecycle:transition', 'value': 'complete'}\n",
      "string {'key': 'concept:name', 'value': 'CRP'}\n",
      "date {'key': 'time:timestamp', 'value': '2014-10-22T11:27:00.000+02:00'}\n",
      "string {'key': 'org:group', 'value': 'B'}\n",
      "float {'key': 'LacticAcid', 'value': '2.2'}\n",
      "string {'key': 'lifecycle:transition', 'value': 'complete'}\n",
      "string {'key': 'concept:name', 'value': 'LacticAcid'}\n",
      "date {'key': 'time:timestamp', 'value': '2014-10-22T11:27:00.000+02:00'}\n",
      "string {'key': 'org:group', 'value': 'C'}\n",
      "string {'key': 'lifecycle:transition', 'value': 'complete'}\n",
      "string {'key': 'concept:name', 'value': 'ER Triage'}\n",
      "date {'key': 'time:timestamp', 'value': '2014-10-22T11:33:37.000+02:00'}\n",
      "string {'key': 'org:group', 'value': 'A'}\n",
      "string {'key': 'lifecycle:transition', 'value': 'complete'}\n",
      "string {'key': 'concept:name', 'value': 'ER Sepsis Triage'}\n",
      "date {'key': 'time:timestamp', 'value': '2014-10-22T11:34:00.000+02:00'}\n",
      "string {'key': 'org:group', 'value': 'A'}\n",
      "string {'key': 'lifecycle:transition', 'value': 'complete'}\n",
      "string {'key': 'concept:name', 'value': 'IV Liquid'}\n",
      "date {'key': 'time:timestamp', 'value': '2014-10-22T14:03:47.000+02:00'}\n",
      "string {'key': 'org:group', 'value': 'A'}\n",
      "string {'key': 'lifecycle:transition', 'value': 'complete'}\n",
      "string {'key': 'concept:name', 'value': 'IV Antibiotics'}\n",
      "date {'key': 'time:timestamp', 'value': '2014-10-22T14:03:47.000+02:00'}\n",
      "string {'key': 'org:group', 'value': 'D'}\n",
      "string {'key': 'lifecycle:transition', 'value': 'complete'}\n",
      "string {'key': 'concept:name', 'value': 'Admission NC'}\n",
      "date {'key': 'time:timestamp', 'value': '2014-10-22T14:13:19.000+02:00'}\n",
      "float {'key': 'CRP', 'value': '109.0'}\n",
      "string {'key': 'org:group', 'value': 'B'}\n",
      "string {'key': 'lifecycle:transition', 'value': 'complete'}\n",
      "string {'key': 'concept:name', 'value': 'CRP'}\n",
      "date {'key': 'time:timestamp', 'value': '2014-10-24T09:00:00.000+02:00'}\n",
      "float {'key': 'Leucocytes', 'value': '8.7'}\n",
      "string {'key': 'org:group', 'value': 'B'}\n",
      "string {'key': 'lifecycle:transition', 'value': 'complete'}\n",
      "string {'key': 'concept:name', 'value': 'Leucocytes'}\n",
      "date {'key': 'time:timestamp', 'value': '2014-10-24T09:00:00.000+02:00'}\n",
      "float {'key': 'Leucocytes', 'value': '9.6'}\n",
      "string {'key': 'org:group', 'value': 'B'}\n",
      "string {'key': 'lifecycle:transition', 'value': 'complete'}\n",
      "string {'key': 'concept:name', 'value': 'Leucocytes'}\n",
      "date {'key': 'time:timestamp', 'value': '2014-10-26T08:00:00.000+01:00'}\n",
      "float {'key': 'CRP', 'value': '47.0'}\n",
      "string {'key': 'org:group', 'value': 'B'}\n",
      "string {'key': 'lifecycle:transition', 'value': 'complete'}\n",
      "string {'key': 'concept:name', 'value': 'CRP'}\n",
      "date {'key': 'time:timestamp', 'value': '2014-10-26T08:00:00.000+01:00'}\n",
      "float {'key': 'Leucocytes', 'value': '10.7'}\n",
      "string {'key': 'org:group', 'value': 'B'}\n",
      "string {'key': 'lifecycle:transition', 'value': 'complete'}\n",
      "string {'key': 'concept:name', 'value': 'Leucocytes'}\n",
      "date {'key': 'time:timestamp', 'value': '2014-10-28T08:00:00.000+01:00'}\n",
      "float {'key': 'CRP', 'value': '15.0'}\n",
      "string {'key': 'org:group', 'value': 'B'}\n",
      "string {'key': 'lifecycle:transition', 'value': 'complete'}\n",
      "string {'key': 'concept:name', 'value': 'CRP'}\n",
      "date {'key': 'time:timestamp', 'value': '2014-10-28T08:00:00.000+01:00'}\n",
      "float {'key': 'CRP', 'value': '9.0'}\n",
      "string {'key': 'org:group', 'value': 'B'}\n",
      "string {'key': 'lifecycle:transition', 'value': 'complete'}\n",
      "string {'key': 'concept:name', 'value': 'CRP'}\n",
      "date {'key': 'time:timestamp', 'value': '2014-10-30T08:00:00.000+01:00'}\n",
      "float {'key': 'Leucocytes', 'value': '13.0'}\n",
      "string {'key': 'org:group', 'value': 'B'}\n",
      "string {'key': 'lifecycle:transition', 'value': 'complete'}\n",
      "string {'key': 'concept:name', 'value': 'Leucocytes'}\n",
      "date {'key': 'time:timestamp', 'value': '2014-10-30T08:00:00.000+01:00'}\n",
      "float {'key': 'Leucocytes', 'value': '11.3'}\n",
      "string {'key': 'org:group', 'value': 'B'}\n",
      "string {'key': 'lifecycle:transition', 'value': 'complete'}\n",
      "string {'key': 'concept:name', 'value': 'Leucocytes'}\n",
      "date {'key': 'time:timestamp', 'value': '2014-10-31T08:00:00.000+01:00'}\n",
      "float {'key': 'CRP', 'value': '9.0'}\n",
      "string {'key': 'org:group', 'value': 'B'}\n",
      "string {'key': 'lifecycle:transition', 'value': 'complete'}\n",
      "string {'key': 'concept:name', 'value': 'CRP'}\n",
      "date {'key': 'time:timestamp', 'value': '2014-10-31T08:00:00.000+01:00'}\n",
      "float {'key': 'CRP', 'value': '6.0'}\n",
      "string {'key': 'org:group', 'value': 'B'}\n",
      "string {'key': 'lifecycle:transition', 'value': 'complete'}\n",
      "string {'key': 'concept:name', 'value': 'CRP'}\n",
      "date {'key': 'time:timestamp', 'value': '2014-11-02T08:00:00.000+01:00'}\n",
      "float {'key': 'Leucocytes', 'value': '10.9'}\n",
      "string {'key': 'org:group', 'value': 'B'}\n",
      "string {'key': 'lifecycle:transition', 'value': 'complete'}\n",
      "string {'key': 'concept:name', 'value': 'Leucocytes'}\n",
      "date {'key': 'time:timestamp', 'value': '2014-11-02T08:00:00.000+01:00'}\n",
      "string {'key': 'org:group', 'value': 'E'}\n",
      "string {'key': 'lifecycle:transition', 'value': 'complete'}\n",
      "string {'key': 'concept:name', 'value': 'Release A'}\n",
      "date {'key': 'time:timestamp', 'value': '2014-11-02T15:15:00.000+01:00'}\n"
     ]
    }
   ],
   "execution_count": 17
  },
  {
   "metadata": {
    "ExecuteTime": {
     "end_time": "2024-12-14T14:06:14.223486Z",
     "start_time": "2024-12-14T14:06:14.213287Z"
    }
   },
   "cell_type": "code",
   "source": [
    "# Input and Output XES paths\n",
    "input_xes_path = \"Sepsis/sepsis.xes\"\n",
    "output_xes_path = \"sepsis_patientInfo.xes\""
   ],
   "id": "385378bcd97a5846",
   "outputs": [],
   "execution_count": 58
  },
  {
   "metadata": {
    "ExecuteTime": {
     "end_time": "2024-12-14T14:06:15.047583Z",
     "start_time": "2024-12-14T14:06:14.793044Z"
    }
   },
   "cell_type": "code",
   "source": [
    "# Add the patient information to the XES file\n",
    "#add_patient_info_to_xes(input_xes_path, output_xes_path, patients_df)\n",
    "#add_patient_info_to_event(input_xes_path, output_xes_path, patients_df)\n",
    "#add_patient_info_with_pretty_formatting(input_xes_path, output_xes_path, patients_df)\n",
    "add_patient_info_v(input_xes_path, output_xes_path, patients_df)\n",
    "\n",
    "# Summary\n",
    "print(\"\\nProcess completed. Patient data added to XES file.\")"
   ],
   "id": "b041429995b5d711",
   "outputs": [
    {
     "name": "stdout",
     "output_type": "stream",
     "text": [
      "<Element 'string' at 0x000001FDF265E840>\n",
      "<Element 'string' at 0x000001FD83B88680>\n",
      "<Element 'string' at 0x000001FD83B88CC0>\n",
      "<Element 'int' at 0x000001FD83B88E00>\n",
      "<Element 'int' at 0x000001FD81F412B0>\n",
      "\n",
      "Process completed. Patient data added to XES file.\n"
     ]
    }
   ],
   "execution_count": 59
  },
  {
   "metadata": {},
   "cell_type": "code",
   "outputs": [],
   "execution_count": null,
   "source": "",
   "id": "66b44e8dd6d307ac"
  }
 ],
 "metadata": {
  "kernelspec": {
   "display_name": "Python 3",
   "language": "python",
   "name": "python3"
  },
  "language_info": {
   "codemirror_mode": {
    "name": "ipython",
    "version": 2
   },
   "file_extension": ".py",
   "mimetype": "text/x-python",
   "name": "python",
   "nbconvert_exporter": "python",
   "pygments_lexer": "ipython2",
   "version": "2.7.6"
  }
 },
 "nbformat": 4,
 "nbformat_minor": 5
}
